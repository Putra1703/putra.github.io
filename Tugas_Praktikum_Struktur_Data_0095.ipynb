{
  "nbformat": 4,
  "nbformat_minor": 0,
  "metadata": {
    "colab": {
      "provenance": [],
      "authorship_tag": "ABX9TyOcvbPaAXkuIF7LYONdI/1u",
      "include_colab_link": true
    },
    "kernelspec": {
      "name": "python3",
      "display_name": "Python 3"
    },
    "language_info": {
      "name": "python"
    }
  },
  "cells": [
    {
      "cell_type": "markdown",
      "metadata": {
        "id": "view-in-github",
        "colab_type": "text"
      },
      "source": [
        "<a href=\"https://colab.research.google.com/github/Putra1703/putra.github.io/blob/main/Tugas_Praktikum_Struktur_Data_0095.ipynb\" target=\"_parent\"><img src=\"https://colab.research.google.com/assets/colab-badge.svg\" alt=\"Open In Colab\"/></a>"
      ]
    },
    {
      "cell_type": "code",
      "execution_count": 1,
      "metadata": {
        "colab": {
          "base_uri": "https://localhost:8080/"
        },
        "id": "AdbW5h7HNPXv",
        "outputId": "7fcd0714-12cd-459f-ed51-890375fed0ab"
      },
      "outputs": [
        {
          "output_type": "stream",
          "name": "stdout",
          "text": [
            "Target ditemukan dalam list\n"
          ]
        }
      ],
      "source": [
        "def sequential_search(data, target):\n",
        "  for item in data:\n",
        "    if item == target:\n",
        "      return True\n",
        "  return False\n",
        "\n",
        "data = [11, 27, 32, 8, 45, 87, 92, 61, 74]\n",
        "target = 8\n",
        "\n",
        "found = sequential_search(data, target)\n",
        "\n",
        "if found:\n",
        "  print(\"Target ditemukan dalam list\")\n",
        "else:\n",
        "  print(\"Target tidak ditemukan dalam list\")"
      ]
    },
    {
      "cell_type": "code",
      "source": [
        "def sequential_search(data, target):\n",
        "  for item in data:\n",
        "    if item == target:\n",
        "      return True\n",
        "  return False\n",
        "\n",
        "data = [11, 27, 32, 8, 45, 87, 92, 61, 74]\n",
        "target = 100\n",
        "\n",
        "found = sequential_search(data, target)\n",
        "\n",
        "if found:\n",
        "  print(\"Target ditemukan dalam list\")\n",
        "else:\n",
        "  print(\"Target tidak ditemukan dalam list\")"
      ],
      "metadata": {
        "colab": {
          "base_uri": "https://localhost:8080/"
        },
        "id": "49_yUyO9QZ7Z",
        "outputId": "b4c8fc6b-d5f0-4844-d840-3363a25749e4"
      },
      "execution_count": 2,
      "outputs": [
        {
          "output_type": "stream",
          "name": "stdout",
          "text": [
            "Target tidak ditemukan dalam list\n"
          ]
        }
      ]
    },
    {
      "cell_type": "code",
      "source": [
        "def sequential_search(list_data, target):\n",
        "  for item in list_data:\n",
        "    if item == target:\n",
        "      return True\n",
        "  return False\n",
        "\n",
        "data = [11, 27, 32, 8, 45, 87, 92, 61, 74]\n",
        "target_1 = 8\n",
        "target_2 = 100\n",
        "\n",
        "print(f\"Apakah {target_1} terdapat dalam list? {sequential_search(data, target_1)}\")\n",
        "print(f\"Apakah {target_2} terdapat dalam list? {sequential_search(data, target_2)}\")"
      ],
      "metadata": {
        "colab": {
          "base_uri": "https://localhost:8080/"
        },
        "id": "dkBZvzllQdgW",
        "outputId": "155a017d-d189-4c11-895a-10d5788224f4"
      },
      "execution_count": 3,
      "outputs": [
        {
          "output_type": "stream",
          "name": "stdout",
          "text": [
            "Apakah 8 terdapat dalam list? True\n",
            "Apakah 100 terdapat dalam list? False\n"
          ]
        }
      ]
    },
    {
      "cell_type": "code",
      "source": [
        "def sequential_search(data, target):\n",
        "  for item in data:\n",
        "    if item == target:\n",
        "      return True\n",
        "  return False\n",
        "\n",
        "data = [5, 18, 21, 37, 45, 52, 67, 73, 88, 94]\n",
        "target = 27\n",
        "\n",
        "found = sequential_search(data, target)\n",
        "\n",
        "if found:\n",
        "  print(\"Target ditemukan dalam list\")\n",
        "else:\n",
        "  print(\"Target tidak ditemukan dalam list\")"
      ],
      "metadata": {
        "colab": {
          "base_uri": "https://localhost:8080/"
        },
        "id": "qMqUkx-DQlLs",
        "outputId": "bd2efa24-e114-4f98-9cf2-93cebfaf92df"
      },
      "execution_count": 4,
      "outputs": [
        {
          "output_type": "stream",
          "name": "stdout",
          "text": [
            "Target tidak ditemukan dalam list\n"
          ]
        }
      ]
    },
    {
      "cell_type": "code",
      "source": [
        "def sequential_search(data, target):\n",
        "  for item in data:\n",
        "    if item == target:\n",
        "      return True\n",
        "  return False\n",
        "\n",
        "data = [5, 18, 21, 37, 45, 52, 67, 73, 88, 94]\n",
        "target = 73\n",
        "\n",
        "found = sequential_search(data, target)\n",
        "\n",
        "if found:\n",
        "  print(\"Target ditemukan dalam list\")\n",
        "else:\n",
        "  print(\"Target tidak ditemukan dalam list\")"
      ],
      "metadata": {
        "colab": {
          "base_uri": "https://localhost:8080/"
        },
        "id": "UmZHLauIQmnA",
        "outputId": "5b5002fe-258a-45e7-df30-06c87f280515"
      },
      "execution_count": 5,
      "outputs": [
        {
          "output_type": "stream",
          "name": "stdout",
          "text": [
            "Target ditemukan dalam list\n"
          ]
        }
      ]
    },
    {
      "cell_type": "code",
      "source": [
        "def binary_search(array, target):\n",
        "    left = 0\n",
        "    right = len(array) - 1\n",
        "\n",
        "    while left <= right:\n",
        "        mid = (left + right) // 2\n",
        "\n",
        "        if array[mid] == target:\n",
        "            return mid\n",
        "        elif array[mid] < target:\n",
        "            left = mid + 1\n",
        "        else:\n",
        "            right = mid - 1\n",
        "\n",
        "    return -1\n",
        "\n",
        "# contoh penggunaan\n",
        "data = [5, 18, 21, 37, 45, 52, 67, 73, 88, 94]\n",
        "target = 73\n",
        "\n",
        "index = binary_search(data, target)\n",
        "\n",
        "if index != -1:\n",
        "    print(f\"Target {target} ditemukan pada index {index}\")\n",
        "else:\n",
        "    print(f\"Target {target} tidak ditemukan dalam array\")"
      ],
      "metadata": {
        "colab": {
          "base_uri": "https://localhost:8080/"
        },
        "id": "dAW_C09vQp6j",
        "outputId": "8f46310a-a334-4273-e987-716c8a58458c"
      },
      "execution_count": 6,
      "outputs": [
        {
          "output_type": "stream",
          "name": "stdout",
          "text": [
            "Target 73 ditemukan pada index 7\n"
          ]
        }
      ]
    }
  ]
}