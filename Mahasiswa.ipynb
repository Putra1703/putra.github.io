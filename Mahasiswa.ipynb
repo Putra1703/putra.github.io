{
  "nbformat": 4,
  "nbformat_minor": 0,
  "metadata": {
    "colab": {
      "provenance": [],
      "authorship_tag": "ABX9TyPBPQ/n0sXbNaw6rPnPc/MF",
      "include_colab_link": true
    },
    "kernelspec": {
      "name": "python3",
      "display_name": "Python 3"
    },
    "language_info": {
      "name": "python"
    }
  },
  "cells": [
    {
      "cell_type": "markdown",
      "metadata": {
        "id": "view-in-github",
        "colab_type": "text"
      },
      "source": [
        "<a href=\"https://colab.research.google.com/github/Putra1703/putra.github.io/blob/main/Mahasiswa.ipynb\" target=\"_parent\"><img src=\"https://colab.research.google.com/assets/colab-badge.svg\" alt=\"Open In Colab\"/></a>"
      ]
    },
    {
      "cell_type": "code",
      "source": [
        "class Mahasiswa:\n",
        "    def __init__(self, nama): # Corrected indentation\n",
        "        self.nama = nama\n",
        "        self.ipk = 0.0\n",
        "        self.gajiortu = 0.0\n",
        "\n",
        "    def setIPK(self, ipk):\n",
        "        self.ipk = ipk\n",
        "\n",
        "    def setGajiOrtu(self, gaji): # Renamed to setGajiOrtu for consistency\n",
        "        self.gajiortu = gaji\n",
        "\n",
        "    def mengajukanBeasiswa(self):\n",
        "        keterangan = \"Tidak Dapat Beasiswa\"\n",
        "        if(self.gajiortu > 1000000 and self.ipk >= 3):\n",
        "            keterangan = \"Dapat Beasiswa\"\n",
        "        elif(self.gajiortu <= 1000000 and self.ipk >= 2.5):\n",
        "            keterangan = \"Dapat Beasiswa\"\n",
        "\n",
        "        print(f\"{self.nama} {keterangan}\")\n",
        "\n",
        "ani = Mahasiswa(\"Ani Setyaningsih\")\n",
        "ani.setIPK(2.75)\n",
        "ani.setGajiOrtu(500000) # Using corrected method name\n",
        "ani.mengajukanBeasiswa()\n",
        "\n",
        "dewi = Mahasiswa(\"Dewi Pergiwati\")\n",
        "dewi.setIPK(3.5)\n",
        "dewi.setGajiOrtu(1000000) # Using corrected method name\n",
        "dewi.mengajukanBeasiswa()"
      ],
      "metadata": {
        "colab": {
          "base_uri": "https://localhost:8080/"
        },
        "id": "FpFyRebkqZyF",
        "outputId": "980ca77d-9c12-4ba2-ac0f-fe9745fdf57d"
      },
      "execution_count": 8,
      "outputs": [
        {
          "output_type": "stream",
          "name": "stdout",
          "text": [
            "Ani Setyaningsih Dapat Beasiswa\n",
            "Dewi Pergiwati Dapat Beasiswa\n"
          ]
        }
      ]
    }
  ]
}