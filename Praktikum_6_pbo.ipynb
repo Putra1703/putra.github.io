{
  "nbformat": 4,
  "nbformat_minor": 0,
  "metadata": {
    "colab": {
      "provenance": [],
      "authorship_tag": "ABX9TyM1bRQqXFBTq8PDCgsxKjPJ",
      "include_colab_link": true
    },
    "kernelspec": {
      "name": "python3",
      "display_name": "Python 3"
    },
    "language_info": {
      "name": "python"
    }
  },
  "cells": [
    {
      "cell_type": "markdown",
      "metadata": {
        "id": "view-in-github",
        "colab_type": "text"
      },
      "source": [
        "<a href=\"https://colab.research.google.com/github/Putra1703/putra.github.io/blob/main/Praktikum_6_pbo.ipynb\" target=\"_parent\"><img src=\"https://colab.research.google.com/assets/colab-badge.svg\" alt=\"Open In Colab\"/></a>"
      ]
    },
    {
      "cell_type": "code",
      "execution_count": 5,
      "metadata": {
        "colab": {
          "base_uri": "https://localhost:8080/",
          "height": 211
        },
        "id": "PR1ygH6VwYIg",
        "outputId": "ca76fabb-84e4-4ccb-fe11-4a93833434a6"
      },
      "outputs": [
        {
          "output_type": "error",
          "ename": "NameError",
          "evalue": "name '___name___' is not defined",
          "traceback": [
            "\u001b[0;31m---------------------------------------------------------------------------\u001b[0m",
            "\u001b[0;31mNameError\u001b[0m                                 Traceback (most recent call last)",
            "\u001b[0;32m<ipython-input-5-dfcb60672173>\u001b[0m in \u001b[0;36m<cell line: 17>\u001b[0;34m()\u001b[0m\n\u001b[1;32m     15\u001b[0m         \u001b[0mprint\u001b[0m\u001b[0;34m(\u001b[0m\u001b[0;34mf\"Persediaan = {total_persediaan}\"\u001b[0m\u001b[0;34m)\u001b[0m\u001b[0;34m\u001b[0m\u001b[0;34m\u001b[0m\u001b[0m\n\u001b[1;32m     16\u001b[0m \u001b[0;34m\u001b[0m\u001b[0m\n\u001b[0;32m---> 17\u001b[0;31m \u001b[0;32mif\u001b[0m \u001b[0m___name___\u001b[0m \u001b[0;34m==\u001b[0m \u001b[0;34m\"___main___\"\u001b[0m\u001b[0;34m:\u001b[0m\u001b[0;34m\u001b[0m\u001b[0;34m\u001b[0m\u001b[0m\n\u001b[0m\u001b[1;32m     18\u001b[0m     \u001b[0mgudang\u001b[0m \u001b[0;34m=\u001b[0m \u001b[0mPersediaanGudang\u001b[0m\u001b[0;34m(\u001b[0m\u001b[0;36m100\u001b[0m\u001b[0;34m)\u001b[0m\u001b[0;34m\u001b[0m\u001b[0;34m\u001b[0m\u001b[0m\n\u001b[1;32m     19\u001b[0m     \u001b[0mgudang\u001b[0m\u001b[0;34m.\u001b[0m\u001b[0msimpan\u001b[0m\u001b[0;34m(\u001b[0m\u001b[0;36m50\u001b[0m\u001b[0;34m)\u001b[0m\u001b[0;34m\u001b[0m\u001b[0;34m\u001b[0m\u001b[0m\n",
            "\u001b[0;31mNameError\u001b[0m: name '___name___' is not defined"
          ]
        }
      ],
      "source": [
        "class PersediaanGudang:\n",
        "    def __init__(self, persediaan):\n",
        "        self.persediaan = persediaan\n",
        "        self.jumlah_diambil = 0\n",
        "        self.jumlah_disimpan = 0\n",
        "\n",
        "    def simpan(self, jumlah):\n",
        "        self.jumlah_disimpan +=jumlah\n",
        "\n",
        "    def ambil(self,jumlah):\n",
        "        self.jumlah_diambil +=jumlah\n",
        "\n",
        "    def cetak_persediaan(self):\n",
        "        total_persediaan = self.persediaan + self.jumlah_disimpan - self.jumlah_diambil\n",
        "        print(f\"Persediaan = {total_persediaan}\")\n",
        "\n",
        "if ___name___ == \"___main___\":\n",
        "    gudang = PersediaanGudang(100)\n",
        "    gudang.simpan(50)\n",
        "    gudang.ambil(30)\n",
        "    gudang.cetak-persediaan()\n",
        "\n"
      ]
    },
    {
      "source": [
        "class PersediaanGudang:\n",
        "    def __init__(self, persediaan):\n",
        "        self.persediaan = persediaan\n",
        "        self.jumlah_diambil = 0\n",
        "        self.jumlah_disimpan = 0\n",
        "\n",
        "    def simpan(self, jumlah):\n",
        "        self.jumlah_disimpan +=jumlah\n",
        "\n",
        "    def ambil(self,jumlah):\n",
        "        self.jumlah_diambil +=jumlah\n",
        "\n",
        "    def cetak_persediaan(self):\n",
        "        total_persediaan = self.persediaan + self.jumlah_disimpan - self.jumlah_diambil\n",
        "        print(f\"Persediaan = {total_persediaan}\")\n",
        "\n",
        "if __name__ == \"__main__\":\n",
        "    gudang = PersediaanGudang(100)\n",
        "    gudang.simpan(50)\n",
        "    gudang.ambil(30)\n",
        "    #Corrected method call to cetak_persediaan()\n",
        "    gudang.cetak_persediaan()"
      ],
      "cell_type": "code",
      "metadata": {
        "colab": {
          "base_uri": "https://localhost:8080/"
        },
        "id": "EHE2Mm_s0FRn",
        "outputId": "bab0bf42-a995-47d8-e43b-a4905abdea7c"
      },
      "execution_count": 9,
      "outputs": [
        {
          "output_type": "stream",
          "name": "stdout",
          "text": [
            "Persediaan = 120\n"
          ]
        }
      ]
    }
  ]
}