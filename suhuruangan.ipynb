{
  "nbformat": 4,
  "nbformat_minor": 0,
  "metadata": {
    "colab": {
      "provenance": [],
      "authorship_tag": "ABX9TyNMe4UTtKKfRy4nZAFij00r",
      "include_colab_link": true
    },
    "kernelspec": {
      "name": "python3",
      "display_name": "Python 3"
    },
    "language_info": {
      "name": "python"
    }
  },
  "cells": [
    {
      "cell_type": "markdown",
      "metadata": {
        "id": "view-in-github",
        "colab_type": "text"
      },
      "source": [
        "<a href=\"https://colab.research.google.com/github/Putra1703/putra.github.io/blob/main/suhuruangan.ipynb\" target=\"_parent\"><img src=\"https://colab.research.google.com/assets/colab-badge.svg\" alt=\"Open In Colab\"/></a>"
      ]
    },
    {
      "cell_type": "code",
      "source": [
        "def cek_suhu_ruangan(suhu):\n",
        "    if suhu < 18:\n",
        "       print(f\"suhu {suhu}°C: Ruangan terlalu dingin\")\n",
        "    elif 18 <=suhu <=24:\n",
        "        print(f\"suhu {suhu}°C: Ruangan nyaman\")\n",
        "    elif 25 <= suhu <= 30:\n",
        "        print(f\"suhu {suhu}°C: Ruangan hangat\")\n",
        "    else:\n",
        "        print(f\"suhu {suhu}°C: Ruangan terlalu panas\")\n",
        "suhu = float(input(\"Masukkan suhu ruangan (dalam °C): \"))\n",
        "cek_suhu_ruangan(suhu)\n",
        "\n",
        ""
      ],
      "metadata": {
        "colab": {
          "base_uri": "https://localhost:8080/"
        },
        "id": "0Gj8ziH-rNHy",
        "outputId": "b69ec945-c7d0-40c8-fbcb-3df54ce65c74"
      },
      "execution_count": 9,
      "outputs": [
        {
          "output_type": "stream",
          "name": "stdout",
          "text": [
            "Masukkan suhu ruangan (dalam °C): 15\n",
            "suhu 15.0°C: Ruangan terlalu dingin\n"
          ]
        }
      ]
    }
  ]
}