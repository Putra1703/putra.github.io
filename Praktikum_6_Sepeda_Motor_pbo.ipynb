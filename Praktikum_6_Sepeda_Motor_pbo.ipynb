{
  "nbformat": 4,
  "nbformat_minor": 0,
  "metadata": {
    "colab": {
      "provenance": [],
      "authorship_tag": "ABX9TyOzheYPC0MmKfx3cb6mDR19",
      "include_colab_link": true
    },
    "kernelspec": {
      "name": "python3",
      "display_name": "Python 3"
    },
    "language_info": {
      "name": "python"
    }
  },
  "cells": [
    {
      "cell_type": "markdown",
      "metadata": {
        "id": "view-in-github",
        "colab_type": "text"
      },
      "source": [
        "<a href=\"https://colab.research.google.com/github/Putra1703/putra.github.io/blob/main/Praktikum_6_Sepeda_Motor_pbo.ipynb\" target=\"_parent\"><img src=\"https://colab.research.google.com/assets/colab-badge.svg\" alt=\"Open In Colab\"/></a>"
      ]
    },
    {
      "source": [
        "class SepedaMotor :\n",
        "    def __init__(self,warna,tahun_produksi):\n",
        "        self.warna = warna\n",
        "        self.tahun_produksi = tahun_produksi\n",
        "\n",
        "    def info_motor(self):\n",
        "        return f\"warna : {self.warna} , tahun Produksi : {self.tahun_produksi}\"\n",
        "\n",
        "\n",
        "#contoh pengguna\n",
        "if __name__ == \"__main__\":\n",
        "    motor1 = SepedaMotor(\"Merah\", 2020)\n",
        "    motor2 = SepedaMotor(\"Biru\", 2021)\n",
        "\n",
        "    print(motor1.info_motor())\n",
        "    print(motor2.info_motor())"
      ],
      "cell_type": "code",
      "metadata": {
        "colab": {
          "base_uri": "https://localhost:8080/"
        },
        "id": "OSnxcIpf35tP",
        "outputId": "c9d5c4fd-6cef-4e69-cb77-2a1ed226dceb"
      },
      "execution_count": 13,
      "outputs": [
        {
          "output_type": "stream",
          "name": "stdout",
          "text": [
            "warna : Merah , tahun Produksi : 2020\n",
            "warna : Biru , tahun Produksi : 2021\n"
          ]
        }
      ]
    }
  ]
}