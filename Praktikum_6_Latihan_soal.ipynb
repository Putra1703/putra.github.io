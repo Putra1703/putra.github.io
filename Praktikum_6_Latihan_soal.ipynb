{
  "nbformat": 4,
  "nbformat_minor": 0,
  "metadata": {
    "colab": {
      "provenance": [],
      "authorship_tag": "ABX9TyM8QR69yWa9owajsCmuphvC",
      "include_colab_link": true
    },
    "kernelspec": {
      "name": "python3",
      "display_name": "Python 3"
    },
    "language_info": {
      "name": "python"
    }
  },
  "cells": [
    {
      "cell_type": "markdown",
      "metadata": {
        "id": "view-in-github",
        "colab_type": "text"
      },
      "source": [
        "<a href=\"https://colab.research.google.com/github/Putra1703/putra.github.io/blob/main/Praktikum_6_Latihan_soal.ipynb\" target=\"_parent\"><img src=\"https://colab.research.google.com/assets/colab-badge.svg\" alt=\"Open In Colab\"/></a>"
      ]
    },
    {
      "cell_type": "code",
      "source": [
        "class SepedaMotor2:\n",
        "    def __init__(self, merek, model):\n",
        "        self.merek = merek\n",
        "        self.model = model\n",
        "        self.is_hidup = False\n",
        "\n",
        "    def hidupkan(self):\n",
        "        if not self.is_hidup:\n",
        "            self.is_hidup = True\n",
        "            print(f\"Sepeda motor {self.merek} {self.model} sudah dihidupkan.\")\n",
        "        else:\n",
        "            print(f\"Sepeda motor {self.merek} {self.model} sudah dalam keadaan hidup.\")\n",
        "\n",
        "    def matikan(self):\n",
        "        if self.is_hidup:\n",
        "            self.is_hidup = False\n",
        "            print(f\"Sepeda motor {self.merek} {self.model} sudah dimatikan.\")\n",
        "        else:\n",
        "            print(f\"Sepeda motor {self.merek} {self.model} sudah dalam keadaan mati.\")\n",
        "\n",
        "    def jalankan(self):\n",
        "        if self.is_hidup:\n",
        "            print(f\"Sepeda motor {self.merek} {self.model} sedang dijalankan.\")\n",
        "        else:\n",
        "            print(f\"Sepeda motor {self.merek} {self.model} tidak bisa dijalankan karena dalam keadaan mati.\")\n",
        "\n",
        "# Contoh penggunaan\n",
        "motor1 = SepedaMotor2(\"Yamaha\", \"NMAX\")\n",
        "motor1.hidupkan()\n",
        "motor1.jalankan()\n",
        "motor1.matikan()\n",
        "motor1.jalankan()\n"
      ],
      "metadata": {
        "colab": {
          "base_uri": "https://localhost:8080/"
        },
        "id": "tdhIL1s44Wbe",
        "outputId": "8a47f7f9-f690-45e7-9212-4f3d8412994c"
      },
      "execution_count": 14,
      "outputs": [
        {
          "output_type": "stream",
          "name": "stdout",
          "text": [
            "Sepeda motor Yamaha NMAX sudah dihidupkan.\n",
            "Sepeda motor Yamaha NMAX sedang dijalankan.\n",
            "Sepeda motor Yamaha NMAX sudah dimatikan.\n",
            "Sepeda motor Yamaha NMAX tidak bisa dijalankan karena dalam keadaan mati.\n"
          ]
        }
      ]
    },
    {
      "cell_type": "code",
      "source": [],
      "metadata": {
        "id": "fGS4heXI471B"
      },
      "execution_count": null,
      "outputs": []
    }
  ]
}