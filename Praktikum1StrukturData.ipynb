{
  "nbformat": 4,
  "nbformat_minor": 0,
  "metadata": {
    "colab": {
      "provenance": [],
      "authorship_tag": "ABX9TyMt8s9JXHx67S1PiSF6Jd//",
      "include_colab_link": true
    },
    "kernelspec": {
      "name": "python3",
      "display_name": "Python 3"
    },
    "language_info": {
      "name": "python"
    }
  },
  "cells": [
    {
      "cell_type": "markdown",
      "metadata": {
        "id": "view-in-github",
        "colab_type": "text"
      },
      "source": [
        "<a href=\"https://colab.research.google.com/github/Putra1703/putra.github.io/blob/main/Praktikum1StrukturData.ipynb\" target=\"_parent\"><img src=\"https://colab.research.google.com/assets/colab-badge.svg\" alt=\"Open In Colab\"/></a>"
      ]
    },
    {
      "cell_type": "code",
      "execution_count": 4,
      "metadata": {
        "colab": {
          "base_uri": "https://localhost:8080/"
        },
        "id": "wn19mM4MPq2S",
        "outputId": "c88bde74-1fea-468e-8123-a09f9a8a8d68"
      },
      "outputs": [
        {
          "output_type": "stream",
          "name": "stdout",
          "text": [
            "nilai pada list1 index [2] :  1993\n",
            "nilai pada list1 index [2] :  2024\n",
            "['kimia', 'fisika', 2024, 2017]\n",
            "nilai baru ada pada index 2 :  2017\n",
            "['kimia', 'fisika', 2017]\n",
            "list2[1:5]) :  [2, 3, 4, 5]\n",
            "['a', 'b', 'c']\n"
          ]
        }
      ],
      "source": [
        "list1 = ['kimia','fisika',1993,2017]\n",
        "list2 = [1,2,3,4,5,6,7]\n",
        "list3 = [\"a\",\"b\",\"c\"]\n",
        "#melihat data list index2\n",
        "print(\"nilai pada list1 index [2] : \" ,list1[2])\n",
        "list1[2]=2024\n",
        "print(\"nilai pada list1 index [2] : \" ,list1[2])\n",
        "print(list1)\n",
        "#hapus data\n",
        "del list1[2]\n",
        "print(\"nilai baru ada pada index 2 : \" , list1[2])\n",
        "print(list1)\n",
        "print(\"list2[1:5]) : \" ,list2[1:5])\n",
        "print(list3)"
      ]
    },
    {
      "cell_type": "code",
      "source": [
        "myName=\"Informatika\"\n",
        "print(myName[2])\n",
        "print(myName*2)\n",
        "len(myName)"
      ],
      "metadata": {
        "colab": {
          "base_uri": "https://localhost:8080/"
        },
        "id": "AnlKuXMtT9sR",
        "outputId": "177acb8b-5734-42f7-d5dc-f6182c36e15f"
      },
      "execution_count": 5,
      "outputs": [
        {
          "output_type": "stream",
          "name": "stdout",
          "text": [
            "f\n",
            "InformatikaInformatika\n"
          ]
        },
        {
          "output_type": "execute_result",
          "data": {
            "text/plain": [
              "11"
            ]
          },
          "metadata": {},
          "execution_count": 5
        }
      ]
    },
    {
      "cell_type": "code",
      "source": [
        "print(myName.upper())\n",
        "print(myName.center(105))\n",
        "print(myName.find('m'))\n",
        "print(myName.split('m'))"
      ],
      "metadata": {
        "colab": {
          "base_uri": "https://localhost:8080/"
        },
        "id": "lIY7uxUiUeSE",
        "outputId": "c6b0c110-2cd5-4e50-d1ec-4d37246bfb43"
      },
      "execution_count": 7,
      "outputs": [
        {
          "output_type": "stream",
          "name": "stdout",
          "text": [
            "INFORMATIKA\n",
            "                                               Informatika                                               \n",
            "5\n",
            "['Infor', 'atika']\n"
          ]
        }
      ]
    },
    {
      "source": [
        "tup1=('fisika','kimia',1993,2017)\n",
        "#Change 'B' to a value or a previously defined variable.\n",
        "#Assuming 'B' should be a string, use 'B' instead of B\n",
        "tup2=(1,2,'B',4,5)\n",
        "tup3=\"a\",\"b\",\"c\",\"d\"\n",
        "#Change 'true' to 'True' as it is a boolean keyword in Python.\n",
        "tup4=(2,True,3.14)\n",
        "print(\"tup1[0] : \", tup1[0])\n",
        "print(\"tup2[1:3] :\", tup2[1:3])\n",
        "del tup3\n",
        "print(tup2)\n",
        "len(tup4)\n",
        "print(tup4[1])\n",
        "print(tup4*2)\n",
        "print(tup4)"
      ],
      "cell_type": "code",
      "metadata": {
        "colab": {
          "base_uri": "https://localhost:8080/"
        },
        "id": "0R53GbDhW4H0",
        "outputId": "252afa70-4b01-4e97-a4b8-f7950783cc19"
      },
      "execution_count": 9,
      "outputs": [
        {
          "output_type": "stream",
          "name": "stdout",
          "text": [
            "tup1[0] :  fisika\n",
            "tup2[1:3] : (2, 'B')\n",
            "(1, 2, 'B', 4, 5)\n",
            "True\n",
            "(2, True, 3.14, 2, True, 3.14)\n",
            "(2, True, 3.14)\n"
          ]
        }
      ]
    },
    {
      "cell_type": "code",
      "source": [],
      "metadata": {
        "id": "bO1UZiYGY-kZ"
      },
      "execution_count": null,
      "outputs": []
    }
  ]
}