{
  "nbformat": 4,
  "nbformat_minor": 0,
  "metadata": {
    "colab": {
      "provenance": [],
      "authorship_tag": "ABX9TyOBE+6o+EaK9snv5l48v4wF",
      "include_colab_link": true
    },
    "kernelspec": {
      "name": "python3",
      "display_name": "Python 3"
    },
    "language_info": {
      "name": "python"
    }
  },
  "cells": [
    {
      "cell_type": "markdown",
      "metadata": {
        "id": "view-in-github",
        "colab_type": "text"
      },
      "source": [
        "<a href=\"https://colab.research.google.com/github/Putra1703/putra.github.io/blob/main/Praktikum_5_Binarysearch_0095_Putra.ipynb\" target=\"_parent\"><img src=\"https://colab.research.google.com/assets/colab-badge.svg\" alt=\"Open In Colab\"/></a>"
      ]
    },
    {
      "cell_type": "code",
      "execution_count": 1,
      "metadata": {
        "colab": {
          "base_uri": "https://localhost:8080/"
        },
        "id": "PZj_vbn5N7Di",
        "outputId": "20402903-1d1a-4185-bfcf-edb0c1d728d1"
      },
      "outputs": [
        {
          "output_type": "stream",
          "name": "stdout",
          "text": [
            "Masukkan nilai yang dicari: 7\n",
            "Nilai:  7 berhasil ditemukan\n",
            "data nilai:  [10, 4, 2, 3, 7, 1, 6, 8]\n"
          ]
        }
      ],
      "source": [
        "#SEQUENTIAL SEARCH (Program pencarian beruntun)\n",
        "a = [10, 4, 2, 3, 7, 1, 6, 8]\n",
        "cari = int(input(\"Masukkan nilai yang dicari: \"))\n",
        "ketemu = False\n",
        "for i in range(0, len(a)):\n",
        "  if cari == a[i]:\n",
        "    ketemu = True\n",
        "    break\n",
        "if ketemu:\n",
        "  print (\"Nilai: \", cari, \"berhasil ditemukan\")\n",
        "else:\n",
        "  print (\"Nilai: \", cari, \"tidak ditemukan\")\n",
        "print('data nilai: ',a)"
      ]
    },
    {
      "cell_type": "code",
      "source": [
        "#binary search\n",
        "l = [1,3,4,6,7,8,10,13,14,18,19,21,24,3,7,40,45,71]\n",
        "dicari = 7\n",
        "print('Mencari nilai', dicari, 'dengan binary search', 'pada list', l)\n",
        "ditemukan = False\n",
        "batas_awal = 0\n",
        "batas_akhir = len(l) - 1\n",
        "while not ditemukan and batas_awal <= batas_akhir:\n",
        "  pos_cari = batas_awal + (batas_akhir-batas_awal)//2 # ambil posisi tengah\n",
        "  print('posisi pencarian: index', pos_cari, 'dengan nilai', l[pos_cari])\n",
        "  if l[pos_cari] == dicari:\n",
        "    ditemukan = True\n",
        "  elif l[pos_cari] > dicari:\n",
        "    batas_akhir = pos_cari-1 # geser 1 titik lebih kecil dari posisi sekarang\n",
        "  else:\n",
        "    batas_awal = pos_cari+1 # geser 1 titik lebih besar dari posisi sekarang\n",
        "if ditemukan:\n",
        "  print('Nilai', dicari, 'ditemukan pada indeks', pos_cari)\n",
        "else:\n",
        "  print('Nilai', dicari, 'tidak ditemukan')"
      ],
      "metadata": {
        "colab": {
          "base_uri": "https://localhost:8080/"
        },
        "id": "9QlGOXmTPzhr",
        "outputId": "5a332d73-6043-4df7-a76c-9902968f7f73"
      },
      "execution_count": 2,
      "outputs": [
        {
          "output_type": "stream",
          "name": "stdout",
          "text": [
            "Mencari nilai 7 dengan binary search pada list [1, 3, 4, 6, 7, 8, 10, 13, 14, 18, 19, 21, 24, 3, 7, 40, 45, 71]\n",
            "posisi pencarian: index 8 dengan nilai 14\n",
            "posisi pencarian: index 3 dengan nilai 6\n",
            "posisi pencarian: index 5 dengan nilai 8\n",
            "posisi pencarian: index 4 dengan nilai 7\n",
            "Nilai 7 ditemukan pada indeks 4\n"
          ]
        }
      ]
    },
    {
      "cell_type": "code",
      "source": [
        "# Sequential Search\n",
        "def sequential_search(lst, target):\n",
        "    for i in range(len(lst)):\n",
        "        if lst[i] == target:\n",
        "            return True\n",
        "    return False\n",
        "\n",
        "# List pertama untuk Sequential Search\n",
        "list_sequential = [11, 27, 32, 8, 45, 87, 92, 61, 74]\n",
        "\n",
        "# Soal Sequential Search\n",
        "print(\"Soal Sequential Search:\")\n",
        "print(\"Apakah 8 ada di dalam list?\", sequential_search(list_sequential, 8))  # Output: True\n",
        "print(\"Apakah 100 ada di dalam list?\", sequential_search(list_sequential, 100))  # Output: False"
      ],
      "metadata": {
        "colab": {
          "base_uri": "https://localhost:8080/"
        },
        "id": "zlktgMX0QCYc",
        "outputId": "101af118-b76b-4b35-f4f4-5318bb0de7ca"
      },
      "execution_count": 3,
      "outputs": [
        {
          "output_type": "stream",
          "name": "stdout",
          "text": [
            "Soal Sequential Search:\n",
            "Apakah 8 ada di dalam list? True\n",
            "Apakah 100 ada di dalam list? False\n"
          ]
        }
      ]
    },
    {
      "cell_type": "code",
      "source": [
        "# Binary Search\n",
        "def binary_search(lst, target):\n",
        "    low = 0\n",
        "    high = len(lst) - 1\n",
        "    while low <= high:\n",
        "        mid = (low + high) // 2\n",
        "        if lst[mid] == target:\n",
        "            return True\n",
        "        elif lst[mid] < target:\n",
        "            low = mid + 1\n",
        "        else:\n",
        "            high = mid - 1\n",
        "    return False\n",
        "\n",
        "# List kedua untuk Binary Search (harus terurut)\n",
        "list_binary = [5, 15, 21, 37, 45, 52, 67, 73, 88, 94]\n",
        "\n",
        "# Soal Binary Search\n",
        "print(\"\\nSoal Binary Search:\")\n",
        "print(\"Apakah 27 ada di dalam list?\", binary_search(list_binary, 27))\n",
        "print(\"Apakah 73 ada di dalam list?\", binary_search(list_binary, 73))"
      ],
      "metadata": {
        "colab": {
          "base_uri": "https://localhost:8080/"
        },
        "id": "kDeJkRhYQHC-",
        "outputId": "2af78af5-c13e-4964-80c5-46e3000b6fda"
      },
      "execution_count": 4,
      "outputs": [
        {
          "output_type": "stream",
          "name": "stdout",
          "text": [
            "\n",
            "Soal Binary Search:\n",
            "Apakah 27 ada di dalam list? False\n",
            "Apakah 73 ada di dalam list? True\n"
          ]
        }
      ]
    }
  ]
}