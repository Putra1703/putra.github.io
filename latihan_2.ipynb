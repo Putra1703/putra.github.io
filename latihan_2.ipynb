{
  "nbformat": 4,
  "nbformat_minor": 0,
  "metadata": {
    "colab": {
      "provenance": [],
      "authorship_tag": "ABX9TyPnazeM8X71pVsrbEqaogkf",
      "include_colab_link": true
    },
    "kernelspec": {
      "name": "python3",
      "display_name": "Python 3"
    },
    "language_info": {
      "name": "python"
    }
  },
  "cells": [
    {
      "cell_type": "markdown",
      "metadata": {
        "id": "view-in-github",
        "colab_type": "text"
      },
      "source": [
        "<a href=\"https://colab.research.google.com/github/Putra1703/putra.github.io/blob/main/latihan_2.ipynb\" target=\"_parent\"><img src=\"https://colab.research.google.com/assets/colab-badge.svg\" alt=\"Open In Colab\"/></a>"
      ]
    },
    {
      "cell_type": "markdown",
      "source": [
        "Cekpositifnegatif"
      ],
      "metadata": {
        "id": "CpGrD_9dRiMX"
      }
    },
    {
      "cell_type": "code",
      "execution_count": 4,
      "metadata": {
        "colab": {
          "base_uri": "https://localhost:8080/"
        },
        "id": "eijlY-QKNOs8",
        "outputId": "7416eca7-3088-4f4a-90f9-ae3cc5223f8d"
      },
      "outputs": [
        {
          "output_type": "stream",
          "name": "stdout",
          "text": [
            "masukkan angka: 10\n",
            "10 termasuk bilangan positif\n"
          ]
        }
      ],
      "source": [
        "def cek_positif_negatif():\n",
        "    angka = int(input(\"masukkan angka: \"))\n",
        "    if angka > 0:\n",
        "       print(f\"{angka} termasuk bilangan positif\")\n",
        "    elif angka < 0:\n",
        "       print(f\"{angka} termasuk bilangan negatif\")\n",
        "    else:\n",
        "        print(f\"{angka}adalah nol\")\n",
        "\n",
        "cek_positif_negatif()\n",
        "\n",
        ""
      ]
    },
    {
      "cell_type": "code",
      "source": [],
      "metadata": {
        "id": "KVlIG1DkRDO6"
      },
      "execution_count": null,
      "outputs": []
    }
  ]
}