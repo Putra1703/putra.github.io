{
  "nbformat": 4,
  "nbformat_minor": 0,
  "metadata": {
    "colab": {
      "provenance": [],
      "authorship_tag": "ABX9TyPr2+PZHrDBmsY0v0VjP/VX",
      "include_colab_link": true
    },
    "kernelspec": {
      "name": "python3",
      "display_name": "Python 3"
    },
    "language_info": {
      "name": "python"
    }
  },
  "cells": [
    {
      "cell_type": "markdown",
      "metadata": {
        "id": "view-in-github",
        "colab_type": "text"
      },
      "source": [
        "<a href=\"https://colab.research.google.com/github/Putra1703/putra.github.io/blob/main/praktikum_1_pbo.ipynb\" target=\"_parent\"><img src=\"https://colab.research.google.com/assets/colab-badge.svg\" alt=\"Open In Colab\"/></a>"
      ]
    },
    {
      "cell_type": "code",
      "source": [
        "print(\"hallo,world! my name is putra.\")"
      ],
      "metadata": {
        "colab": {
          "base_uri": "https://localhost:8080/"
        },
        "id": "-n00TdwMn8XN",
        "outputId": "fd1f840b-40ee-48b5-ca39-0e093180651e"
      },
      "execution_count": 2,
      "outputs": [
        {
          "output_type": "stream",
          "name": "stdout",
          "text": [
            "hallo,world! my name is putra.\n"
          ]
        }
      ]
    },
    {
      "cell_type": "code",
      "source": [
        "a= int(input(\"masukkan bil-1:\"))\n",
        "b= int(input(\"masukkan bil-2:\"))\n",
        "c= a+b\n",
        "print(\"hasil penjumlahan:\",c)"
      ],
      "metadata": {
        "colab": {
          "base_uri": "https://localhost:8080/"
        },
        "id": "_grfnaJYoLsW",
        "outputId": "4531e1d1-945a-4f96-df25-91feba4337f6"
      },
      "execution_count": 3,
      "outputs": [
        {
          "output_type": "stream",
          "name": "stdout",
          "text": [
            "masukkan bil-1:10\n",
            "masukkan bil-2:5\n",
            "hasil penjumlahan: 15\n"
          ]
        }
      ]
    },
    {
      "cell_type": "code",
      "source": [
        "alas=float(input(\"masukkan panjang alas segitiga:\"))\n",
        "tinggi=float(input(\"masukkan tinggi segitiga:\"))\n",
        "luas =0.5* alas * tinggi\n",
        "print(\"luas segitiga adalah:\", luas)"
      ],
      "metadata": {
        "colab": {
          "base_uri": "https://localhost:8080/"
        },
        "id": "EeY0-gVspIXl",
        "outputId": "3ba305a6-78da-4e86-c018-a7c10c045119"
      },
      "execution_count": 4,
      "outputs": [
        {
          "output_type": "stream",
          "name": "stdout",
          "text": [
            "masukkan panjang alas segitiga:10\n",
            "masukkan tinggi segitiga:5\n",
            "luas segitiga adalah: 25.0\n"
          ]
        }
      ]
    },
    {
      "cell_type": "code",
      "source": [
        "# Fungsi untuk melakukan pengurangan, perkalian, dan pembagian\n",
        "def operasi_matematika(a, b):\n",
        "    # Pengurangan\n",
        "    pengurangan = a - b\n",
        "    print(f\"{a} - {b} = {pengurangan}\")\n",
        "\n",
        "    # Perkalian\n",
        "    perkalian = a * b\n",
        "    print(f\"{a} * {b} = {perkalian}\")\n",
        "\n",
        "    # Pembagian\n",
        "    if b != 0:  # Memastikan tidak membagi dengan nol\n",
        "        pembagian = a / b\n",
        "        print(f\"{a} / {b} = {pembagian}\")\n",
        "    else:\n",
        "        print(\"Pembagian dengan nol tidak diperbolehkan.\")\n",
        "\n",
        "# Contoh penggunaan\n",
        "a = 10\n",
        "b = 5\n",
        "operasi_matematika(a, b)\n"
      ],
      "metadata": {
        "colab": {
          "base_uri": "https://localhost:8080/"
        },
        "id": "WOUMW9faq3PQ",
        "outputId": "735d4190-24c1-4e6b-ca43-e559ec0f4c7b"
      },
      "execution_count": 5,
      "outputs": [
        {
          "output_type": "stream",
          "name": "stdout",
          "text": [
            "10 - 5 = 5\n",
            "10 * 5 = 50\n",
            "10 / 5 = 2.0\n"
          ]
        }
      ]
    },
    {
      "cell_type": "code",
      "source": [
        "# Fungsi untuk menghitung luas dan keliling segitiga\n",
        "def hitung_segitiga(alas, tinggi, a, b, c):\n",
        "    # Menghitung luas\n",
        "    luas = 0.5 * alas * tinggi\n",
        "    print(f\"Luas segitiga dengan alas {alas} cm dan tinggi {tinggi} cm adalah {luas} cm²\")\n",
        "\n",
        "    # Menghitung keliling\n",
        "    keliling = a + b + c\n",
        "    print(f\"Keliling segitiga dengan sisi {a} cm, {b} cm, dan {c} cm adalah {keliling} cm\")\n",
        "\n",
        "# Contoh penggunaan\n",
        "alas = 10  # cm\n",
        "tinggi = 5  # cm\n",
        "a = 10  # cm\n",
        "b = 6   # cm\n",
        "c = 8   # cm\n",
        "\n",
        "hitung_segitiga(alas, tinggi, a, b, c)\n"
      ],
      "metadata": {
        "colab": {
          "base_uri": "https://localhost:8080/"
        },
        "id": "YmiMngZErCzG",
        "outputId": "362541b2-06ca-41e9-c949-494c75e96e7c"
      },
      "execution_count": 6,
      "outputs": [
        {
          "output_type": "stream",
          "name": "stdout",
          "text": [
            "Luas segitiga dengan alas 10 cm dan tinggi 5 cm adalah 25.0 cm²\n",
            "Keliling segitiga dengan sisi 10 cm, 6 cm, dan 8 cm adalah 24 cm\n"
          ]
        }
      ]
    }
  ]
}