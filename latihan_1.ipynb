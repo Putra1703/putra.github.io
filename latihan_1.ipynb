{
  "nbformat": 4,
  "nbformat_minor": 0,
  "metadata": {
    "colab": {
      "provenance": [],
      "authorship_tag": "ABX9TyMwWO5NFZWFMCo3lq+IYWgF",
      "include_colab_link": true
    },
    "kernelspec": {
      "name": "python3",
      "display_name": "Python 3"
    },
    "language_info": {
      "name": "python"
    }
  },
  "cells": [
    {
      "cell_type": "markdown",
      "metadata": {
        "id": "view-in-github",
        "colab_type": "text"
      },
      "source": [
        "<a href=\"https://colab.research.google.com/github/Putra1703/putra.github.io/blob/main/latihan_1.ipynb\" target=\"_parent\"><img src=\"https://colab.research.google.com/assets/colab-badge.svg\" alt=\"Open In Colab\"/></a>"
      ]
    },
    {
      "cell_type": "markdown",
      "source": [
        "CekBilangan"
      ],
      "metadata": {
        "id": "CpGrD_9dRiMX"
      }
    },
    {
      "cell_type": "code",
      "execution_count": 2,
      "metadata": {
        "colab": {
          "base_uri": "https://localhost:8080/"
        },
        "id": "eijlY-QKNOs8",
        "outputId": "87f4f094-e063-4def-83b7-0a90ff03f4e9"
      },
      "outputs": [
        {
          "output_type": "stream",
          "name": "stdout",
          "text": [
            "masukkan angka:10\n",
            "10 termasuk bilangan genap\n"
          ]
        }
      ],
      "source": [
        "def cek_bilangan():\n",
        "    angka = int(input(\"masukkan angka:\"))\n",
        "    if angka % 2 == 1:\n",
        "        print(f\"{angka} termasuk bilangan ganjil\")\n",
        "    else:\n",
        "        print(f\"{angka} termasuk bilangan genap\")\n",
        "cek_bilangan()"
      ]
    },
    {
      "cell_type": "code",
      "source": [],
      "metadata": {
        "id": "KVlIG1DkRDO6"
      },
      "execution_count": null,
      "outputs": []
    }
  ]
}