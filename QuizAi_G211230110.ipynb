{
  "nbformat": 4,
  "nbformat_minor": 0,
  "metadata": {
    "colab": {
      "provenance": [],
      "include_colab_link": true
    },
    "kernelspec": {
      "name": "python3",
      "display_name": "Python 3"
    },
    "language_info": {
      "name": "python"
    }
  },
  "cells": [
    {
      "cell_type": "markdown",
      "metadata": {
        "id": "view-in-github",
        "colab_type": "text"
      },
      "source": [
        "<a href=\"https://colab.research.google.com/github/Putra1703/putra.github.io/blob/main/QuizAi_G211230110.ipynb\" target=\"_parent\"><img src=\"https://colab.research.google.com/assets/colab-badge.svg\" alt=\"Open In Colab\"/></a>"
      ]
    },
    {
      "cell_type": "code",
      "execution_count": null,
      "metadata": {
        "colab": {
          "base_uri": "https://localhost:8080/"
        },
        "id": "c9wroKNgReg3",
        "outputId": "48030793-173e-439a-d16f-57e144c5eecd"
      },
      "outputs": [
        {
          "output_type": "execute_result",
          "data": {
            "text/plain": [
              "(   Nama Mahasiswa  UTS  Tugas  UAS  Cluster\n",
              " 0             Roy   89     90   75        0\n",
              " 1          Sintia   90     71   95        0\n",
              " 2           Iqbal   70     75   80        1\n",
              " 3           Dilan   45     65   59        2\n",
              " 4           Ratna   65     75   53        1\n",
              " 5           Merry   80     70   75        1\n",
              " 6            Rudi   90     85   81        0\n",
              " 7           Hafiz   70     70   73        1\n",
              " 8            Gede   96     93   85        0\n",
              " 9       Christian   60     55   48        2\n",
              " 10         Justin   45     60   58        2\n",
              " 11         Jesika   60     70   72        1\n",
              " 12            Ayu   85     90   88        0\n",
              " 13          Siska   52     68   55        2\n",
              " 14        Reitama   40     60   70        2,\n",
              " 1865.1999999999996)"
            ]
          },
          "metadata": {},
          "execution_count": 4
        }
      ],
      "source": [
        "import pandas as pd\n",
        "from sklearn.cluster import KMeans\n",
        "from sklearn.metrics import silhouette_score\n",
        "\n",
        "# Data mahasiswa\n",
        "data = {\n",
        "    'Nama Mahasiswa': [\"Roy\", \"Sintia\", \"Iqbal\", \"Dilan\", \"Ratna\", \"Merry\", \"Rudi\", \"Hafiz\", \"Gede\",\n",
        "                       \"Christian\", \"Justin\", \"Jesika\", \"Ayu\", \"Siska\", \"Reitama\"],\n",
        "    'UTS': [89, 90, 70, 45, 65, 80, 90, 70, 96, 60, 45, 60, 85, 52, 40],\n",
        "    'Tugas': [90, 71, 75, 65, 75, 70, 85, 70, 93, 55, 60, 70, 90, 68, 60],\n",
        "    'UAS': [75, 95, 80, 59, 53, 75, 81, 73, 85, 48, 58, 72, 88, 55, 70]\n",
        "}\n",
        "\n",
        "#mengkonversi ke data frame\n",
        "df = pd.DataFrame(data)\n",
        "\n",
        "#membuat kmeans dengan 3 kluster\n",
        "X = df[['UTS', 'Tugas', 'UAS']]\n",
        "\n",
        "kmeans = KMeans(n_clusters=3, random_state=0)\n",
        "kmeans.fit(X)\n",
        "\n",
        "df['Cluster'] = kmeans.labels_\n",
        "\n",
        "#hitung nilai sse\n",
        "sse = kmeans.inertia_\n",
        "\n",
        "df, sse"
      ]
    }
  ]
}