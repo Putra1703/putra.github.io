{
  "nbformat": 4,
  "nbformat_minor": 0,
  "metadata": {
    "colab": {
      "provenance": [],
      "authorship_tag": "ABX9TyNrJAwe+qdzulDLsBhUOGcW",
      "include_colab_link": true
    },
    "kernelspec": {
      "name": "python3",
      "display_name": "Python 3"
    },
    "language_info": {
      "name": "python"
    }
  },
  "cells": [
    {
      "cell_type": "markdown",
      "metadata": {
        "id": "view-in-github",
        "colab_type": "text"
      },
      "source": [
        "<a href=\"https://colab.research.google.com/github/Putra1703/putra.github.io/blob/main/Praktikum_2_Struktur_Data_Set_dan_Dict.ipynb\" target=\"_parent\"><img src=\"https://colab.research.google.com/assets/colab-badge.svg\" alt=\"Open In Colab\"/></a>"
      ]
    },
    {
      "cell_type": "code",
      "execution_count": 6,
      "metadata": {
        "colab": {
          "base_uri": "https://localhost:8080/"
        },
        "id": "_t1z5ZTPLXMq",
        "outputId": "81ddb42e-165a-4324-9b05-7b05e1da78e9"
      },
      "outputs": [
        {
          "output_type": "stream",
          "name": "stdout",
          "text": [
            "{False, 3, 4.5, 6, 'cat'}\n"
          ]
        }
      ],
      "source": [
        "mySet={3,6,\"cat\",4.5,False}\n",
        "print(mySet)"
      ]
    },
    {
      "cell_type": "code",
      "source": [
        "print(len(mySet))\n",
        "print(False in mySet)\n",
        "print(\"car\" in mySet)"
      ],
      "metadata": {
        "colab": {
          "base_uri": "https://localhost:8080/"
        },
        "id": "hAOWqnIkL_wU",
        "outputId": "7bebaf44-aa93-413d-b23b-a2d458b91465"
      },
      "execution_count": 2,
      "outputs": [
        {
          "output_type": "stream",
          "name": "stdout",
          "text": [
            "5\n",
            "True\n",
            "False\n"
          ]
        }
      ]
    },
    {
      "cell_type": "code",
      "source": [
        "mySet={3,6,\"cat\",4.5,False}\n",
        "print('myset : ', mySet)\n",
        "yourSet={99,3,100}\n",
        "print('yourset: ', yourSet)\n",
        "print(mySet.union(yourSet))\n",
        "print(mySet|yourSet)\n",
        "print(mySet.intersection(yourSet))"
      ],
      "metadata": {
        "colab": {
          "base_uri": "https://localhost:8080/"
        },
        "id": "KdiAD6UHMOO6",
        "outputId": "a7c6e140-9c98-47a2-c4f6-cb5bff7f0aa8"
      },
      "execution_count": 3,
      "outputs": [
        {
          "output_type": "stream",
          "name": "stdout",
          "text": [
            "myset :  {False, 3, 4.5, 6, 'cat'}\n",
            "yourset:  {99, 3, 100}\n",
            "{False, 3, 4.5, 99, 6, 100, 'cat'}\n",
            "{False, 3, 4.5, 99, 6, 100, 'cat'}\n",
            "{3}\n"
          ]
        }
      ]
    },
    {
      "cell_type": "code",
      "source": [
        "print(mySet&yourSet)\n",
        "print(mySet.difference(yourSet))\n",
        "print(mySet-yourSet)\n",
        "print({3,100}.issubset(yourSet))\n",
        "print({3,100}<=yourSet)\n",
        "print(mySet.add(\"house\"))\n"
      ],
      "metadata": {
        "colab": {
          "base_uri": "https://localhost:8080/"
        },
        "id": "R1-pAS6dMXuO",
        "outputId": "db43000b-be86-4f03-a532-309e15ebde06"
      },
      "execution_count": 4,
      "outputs": [
        {
          "output_type": "stream",
          "name": "stdout",
          "text": [
            "{3}\n",
            "{False, 'cat', 4.5, 6}\n",
            "{False, 'cat', 4.5, 6}\n",
            "True\n",
            "True\n",
            "None\n"
          ]
        }
      ]
    },
    {
      "cell_type": "code",
      "source": [
        "print(mySet&yourSet)\n",
        "print(mySet.difference(yourSet))"
      ],
      "metadata": {
        "colab": {
          "base_uri": "https://localhost:8080/"
        },
        "id": "qPdu1sMUMfbf",
        "outputId": "096ed07d-017a-499a-fcb2-479e12e81da5"
      },
      "execution_count": 5,
      "outputs": [
        {
          "output_type": "stream",
          "name": "stdout",
          "text": [
            "{3}\n",
            "{False, 4.5, 6, 'house', 'cat'}\n"
          ]
        }
      ]
    },
    {
      "cell_type": "code",
      "source": [
        "print(mySet)\n",
        "print(mySet.remove(4.5))\n",
        "print(mySet)\n",
        "print(mySet.pop())\n"
      ],
      "metadata": {
        "colab": {
          "base_uri": "https://localhost:8080/"
        },
        "id": "dWiUNJw5MkHZ",
        "outputId": "5b7e682b-0521-41ba-9b6e-fffee0eee9f1"
      },
      "execution_count": 7,
      "outputs": [
        {
          "output_type": "stream",
          "name": "stdout",
          "text": [
            "{False, 3, 4.5, 6, 'cat'}\n",
            "None\n",
            "{False, 3, 6, 'cat'}\n",
            "False\n"
          ]
        }
      ]
    },
    {
      "cell_type": "code",
      "source": [
        "print(mySet)\n",
        "print(mySet.clear())\n",
        "print(mySet)"
      ],
      "metadata": {
        "colab": {
          "base_uri": "https://localhost:8080/"
        },
        "id": "BgRFwnFGNEtL",
        "outputId": "8bf34e58-6e21-406c-b4a6-45fa044924e1"
      },
      "execution_count": 8,
      "outputs": [
        {
          "output_type": "stream",
          "name": "stdout",
          "text": [
            "{3, 6, 'cat'}\n",
            "None\n",
            "set()\n"
          ]
        }
      ]
    },
    {
      "cell_type": "code",
      "source": [
        "dict = {'Name':'Zara','Age': 7, 'Class': 'First'}\n",
        "print(\"dict['Name'] : \", dict['Name'])\n",
        "print(\"dict['Umur'] : \", dict['Age'])\n",
        "dict['Age'] = 8\n",
        "print(\"dict['Name'] : \", dict['Name'])\n",
        "print(\"dict['Umur'] : \", dict['Age'])\n",
        "dict['School'] = 'USM'\n",
        "print(\"dict['Name'] : \", dict['Name'])\n",
        "print(\"dict['Umur'] : \", dict['Age'])\n",
        "print(\"dict['School'] : \", dict['School'])"
      ],
      "metadata": {
        "colab": {
          "base_uri": "https://localhost:8080/"
        },
        "id": "vZ0kQvcKNI8U",
        "outputId": "382e2638-8b1f-498e-86c5-4f1ebfe42d8f"
      },
      "execution_count": 9,
      "outputs": [
        {
          "output_type": "stream",
          "name": "stdout",
          "text": [
            "dict['Name'] :  Zara\n",
            "dict['Umur'] :  7\n",
            "dict['Name'] :  Zara\n",
            "dict['Umur'] :  8\n",
            "dict['Name'] :  Zara\n",
            "dict['Umur'] :  8\n",
            "dict['School'] :  USM\n"
          ]
        }
      ]
    },
    {
      "cell_type": "code",
      "source": [
        "capitals = {'lowa':'DesMoines','Wisconsin':'Madison'}\n",
        "print(capitals['lowa'])"
      ],
      "metadata": {
        "colab": {
          "base_uri": "https://localhost:8080/"
        },
        "id": "eesKxz7xNPXO",
        "outputId": "823b9853-0c62-4789-d4cf-606af1b337e3"
      },
      "execution_count": 10,
      "outputs": [
        {
          "output_type": "stream",
          "name": "stdout",
          "text": [
            "DesMoines\n"
          ]
        }
      ]
    },
    {
      "cell_type": "code",
      "source": [
        "capitals['Utah']='SaltLakeCity'\n",
        "print(capitals)"
      ],
      "metadata": {
        "colab": {
          "base_uri": "https://localhost:8080/"
        },
        "id": "n2dyPI8sNROD",
        "outputId": "4e7d8172-630f-486c-8a6c-e9a588668fcb"
      },
      "execution_count": 11,
      "outputs": [
        {
          "output_type": "stream",
          "name": "stdout",
          "text": [
            "{'lowa': 'DesMoines', 'Wisconsin': 'Madison', 'Utah': 'SaltLakeCity'}\n"
          ]
        }
      ]
    },
    {
      "cell_type": "code",
      "source": [
        "capitals['California']='Sacramento'\n",
        "print(len(capitals))"
      ],
      "metadata": {
        "colab": {
          "base_uri": "https://localhost:8080/"
        },
        "id": "L2ovms1TNVoS",
        "outputId": "7d001a1a-330d-4de4-d03a-a94f357ac687"
      },
      "execution_count": 12,
      "outputs": [
        {
          "output_type": "stream",
          "name": "stdout",
          "text": [
            "4\n"
          ]
        }
      ]
    },
    {
      "cell_type": "code",
      "source": [
        "for k in capitals:\n",
        "  print(capitals[k],\" is the capital of \", k)"
      ],
      "metadata": {
        "colab": {
          "base_uri": "https://localhost:8080/"
        },
        "id": "2TTvn9z8NahN",
        "outputId": "bc9897bc-a294-406e-ed67-0fce155929bd"
      },
      "execution_count": 13,
      "outputs": [
        {
          "output_type": "stream",
          "name": "stdout",
          "text": [
            "DesMoines  is the capital of  lowa\n",
            "Madison  is the capital of  Wisconsin\n",
            "SaltLakeCity  is the capital of  Utah\n",
            "Sacramento  is the capital of  California\n"
          ]
        }
      ]
    },
    {
      "cell_type": "code",
      "source": [
        "phoneext={'saalimah':1410, 'hidayah':1137}\n",
        "print(phoneext)\n",
        "print(phoneext.keys())\n",
        "print(list(phoneext.keys()))"
      ],
      "metadata": {
        "colab": {
          "base_uri": "https://localhost:8080/"
        },
        "id": "aH6d_Ij3NjON",
        "outputId": "6b3cd789-03b2-47b9-f4a2-5ce0f7e9550c"
      },
      "execution_count": 14,
      "outputs": [
        {
          "output_type": "stream",
          "name": "stdout",
          "text": [
            "{'saalimah': 1410, 'hidayah': 1137}\n",
            "dict_keys(['saalimah', 'hidayah'])\n",
            "['saalimah', 'hidayah']\n"
          ]
        }
      ]
    },
    {
      "cell_type": "code",
      "source": [
        "print(phoneext.values())\n",
        "print(list(phoneext.values()))\n",
        "print(phoneext.items())"
      ],
      "metadata": {
        "colab": {
          "base_uri": "https://localhost:8080/"
        },
        "id": "9ms9qf_-NoTa",
        "outputId": "73f2e466-b8e0-48ea-b945-93df4c6f6446"
      },
      "execution_count": 15,
      "outputs": [
        {
          "output_type": "stream",
          "name": "stdout",
          "text": [
            "dict_values([1410, 1137])\n",
            "[1410, 1137]\n",
            "dict_items([('saalimah', 1410), ('hidayah', 1137)])\n"
          ]
        }
      ]
    },
    {
      "cell_type": "code",
      "source": [
        "print(phoneext.items())\n",
        "print(list(phoneext.items()))"
      ],
      "metadata": {
        "colab": {
          "base_uri": "https://localhost:8080/"
        },
        "id": "eZRntFoKN0J4",
        "outputId": "6a19e668-c0ff-45f9-b275-2e55470b3c22"
      },
      "execution_count": 16,
      "outputs": [
        {
          "output_type": "stream",
          "name": "stdout",
          "text": [
            "dict_items([('saalimah', 1410), ('hidayah', 1137)])\n",
            "[('saalimah', 1410), ('hidayah', 1137)]\n"
          ]
        }
      ]
    },
    {
      "cell_type": "code",
      "source": [
        "print(phoneext.get(\"kent\"))\n",
        "print(phoneext.get(\"kent\",\"NO ENTRY\"))"
      ],
      "metadata": {
        "colab": {
          "base_uri": "https://localhost:8080/"
        },
        "id": "QHKu6lWUN_Po",
        "outputId": "b75f09f1-a700-4a10-edca-42f0d4b64c9d"
      },
      "execution_count": 17,
      "outputs": [
        {
          "output_type": "stream",
          "name": "stdout",
          "text": [
            "None\n",
            "NO ENTRY\n"
          ]
        }
      ]
    }
  ]
}