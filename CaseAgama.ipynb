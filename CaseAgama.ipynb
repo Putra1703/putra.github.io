{
  "nbformat": 4,
  "nbformat_minor": 0,
  "metadata": {
    "colab": {
      "provenance": [],
      "authorship_tag": "ABX9TyOMwT8JuqyKR1d0Qhx5IET5",
      "include_colab_link": true
    },
    "kernelspec": {
      "name": "python3",
      "display_name": "Python 3"
    },
    "language_info": {
      "name": "python"
    }
  },
  "cells": [
    {
      "cell_type": "markdown",
      "metadata": {
        "id": "view-in-github",
        "colab_type": "text"
      },
      "source": [
        "<a href=\"https://colab.research.google.com/github/Putra1703/putra.github.io/blob/main/CaseAgama.ipynb\" target=\"_parent\"><img src=\"https://colab.research.google.com/assets/colab-badge.svg\" alt=\"Open In Colab\"/></a>"
      ]
    },
    {
      "cell_type": "code",
      "source": [
        "def cek_agama(agama):\n",
        "    switcher = {\n",
        "        1: \"islam\",\n",
        "        2: \"kristen\",\n",
        "        3: \"Katolik\",\n",
        "        4: \"Hindu\",\n",
        "        5: \"buddha\",\n",
        "        6: \"konghucu\"\n",
        "    }\n",
        "    return switcher.get(agama, \"Agama tidak ditemukan\")\n",
        "\n",
        "# input dari pengguna\n",
        "print(\"pilihagama:\")\n",
        "print(\"1. Islam\")\n",
        "print(\"2. Kristen\")\n",
        "print(\"3. Katolik\")\n",
        "print(\"4. Hindu\")\n",
        "print(\"5. Buddha\")\n",
        "print(\"6. Konghucu\")\n",
        "\n",
        "# meminta input angka dari pengguna\n",
        "agama_input = int(input(\"masukkan nomor agama: \"))\n",
        "agama = cek_agama(agama_input)\n",
        "\n",
        "print(f\"Agama yang dipilih adalah: {agama}\")\n"
      ],
      "metadata": {
        "colab": {
          "base_uri": "https://localhost:8080/"
        },
        "id": "mQ3oe8mIu1_F",
        "outputId": "9b1fde9f-5bc7-46a8-fd32-4ab78cd962bb"
      },
      "execution_count": 12,
      "outputs": [
        {
          "output_type": "stream",
          "name": "stdout",
          "text": [
            "pilihagama:\n",
            "1. Islam\n",
            "2. Kristen\n",
            "3. Katolik\n",
            "4. Hindu\n",
            "5. Buddha\n",
            "6. Konghucu\n",
            "masukkan nomor agama: 5\n",
            "Agama yang dipilih adalah: buddha\n"
          ]
        }
      ]
    }
  ]
}