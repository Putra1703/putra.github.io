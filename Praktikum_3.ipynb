{
  "nbformat": 4,
  "nbformat_minor": 0,
  "metadata": {
    "colab": {
      "provenance": [],
      "authorship_tag": "ABX9TyPE8jkI/TB29RI3+ykWZcKi",
      "include_colab_link": true
    },
    "kernelspec": {
      "name": "python3",
      "display_name": "Python 3"
    },
    "language_info": {
      "name": "python"
    }
  },
  "cells": [
    {
      "cell_type": "markdown",
      "metadata": {
        "id": "view-in-github",
        "colab_type": "text"
      },
      "source": [
        "<a href=\"https://colab.research.google.com/github/Putra1703/putra.github.io/blob/main/Praktikum_3.ipynb\" target=\"_parent\"><img src=\"https://colab.research.google.com/assets/colab-badge.svg\" alt=\"Open In Colab\"/></a>"
      ]
    },
    {
      "cell_type": "code",
      "source": [
        "def cek_bilangan():\n",
        "    angka = int(input(\"masukkan angka:\"))\n",
        "    if angka % 2 == 1:\n",
        "        print(f\"{angka} termasuk bilangan ganjil\")\n",
        "    else:\n",
        "        print(f\"{angka} termasuk bilangan genap\")\n",
        "cek_bilangan()\n",
        ""
      ],
      "metadata": {
        "colab": {
          "base_uri": "https://localhost:8080/"
        },
        "id": "AEgI53mf7NCS",
        "outputId": "9ec57be1-b01a-4cbb-f067-0537d0058482"
      },
      "execution_count": 13,
      "outputs": [
        {
          "output_type": "stream",
          "name": "stdout",
          "text": [
            "masukkan angka:10\n",
            "10 termasuk bilangan genap\n"
          ]
        }
      ]
    },
    {
      "cell_type": "code",
      "source": [
        "def cek_positif_negatif():\n",
        "    angka = int(input(\"masukkan angka: \"))\n",
        "    if angka > 0:\n",
        "       print(f\"{angka} termasuk bilangan positif\")\n",
        "    elif angka < 0:\n",
        "       print(f\"{angka} termasuk bilangan negatif\")\n",
        "    else:\n",
        "        print(f\"{angka}adalah nol\")\n",
        "\n",
        "cek_positif_negatif()\n"
      ],
      "metadata": {
        "colab": {
          "base_uri": "https://localhost:8080/"
        },
        "id": "JN4b1L8E7hM3",
        "outputId": "f2024517-b7ca-4351-ab81-7175421a673a"
      },
      "execution_count": 14,
      "outputs": [
        {
          "output_type": "stream",
          "name": "stdout",
          "text": [
            "masukkan angka: 10\n",
            "10 termasuk bilangan positif\n"
          ]
        }
      ]
    },
    {
      "cell_type": "code",
      "source": [
        "class Mahasiswa:\n",
        "    def __init__(self, nama): # Corrected indentation\n",
        "        self.nama = nama\n",
        "        self.ipk = 0.0\n",
        "        self.gajiortu = 0.0\n",
        "\n",
        "    def setIPK(self, ipk):\n",
        "        self.ipk = ipk\n",
        "\n",
        "    def setGajiOrtu(self, gaji): # Renamed to setGajiOrtu for consistency\n",
        "        self.gajiortu = gaji\n",
        "\n",
        "    def mengajukanBeasiswa(self):\n",
        "        keterangan = \"Tidak Dapat Beasiswa\"\n",
        "        if(self.gajiortu > 1000000 and self.ipk >= 3):\n",
        "            keterangan = \"Dapat Beasiswa\"\n",
        "        elif(self.gajiortu <= 1000000 and self.ipk >= 2.5):\n",
        "            keterangan = \"Dapat Beasiswa\"\n",
        "\n",
        "        print(f\"{self.nama} {keterangan}\")\n",
        "\n",
        "ani = Mahasiswa(\"Ani Setyaningsih\")\n",
        "ani.setIPK(2.75)\n",
        "ani.setGajiOrtu(500000) # Using corrected method name\n",
        "ani.mengajukanBeasiswa()\n",
        "\n",
        "dewi = Mahasiswa(\"Dewi Pergiwati\")\n",
        "dewi.setIPK(3.5)\n",
        "dewi.setGajiOrtu(1000000) # Using corrected method name\n",
        "dewi.mengajukanBeasiswa()\n",
        ""
      ],
      "metadata": {
        "colab": {
          "base_uri": "https://localhost:8080/"
        },
        "id": "wsuQYfkA7ugv",
        "outputId": "5b6c5dd9-bc6d-40af-c21e-b648e00d0a39"
      },
      "execution_count": 15,
      "outputs": [
        {
          "output_type": "stream",
          "name": "stdout",
          "text": [
            "Ani Setyaningsih Dapat Beasiswa\n",
            "Dewi Pergiwati Dapat Beasiswa\n"
          ]
        }
      ]
    },
    {
      "cell_type": "code",
      "source": [
        "def cek_suhu_ruangan(suhu):\n",
        "    if suhu < 18:\n",
        "       print(f\"suhu {suhu}°C: Ruangan terlalu dingin\")\n",
        "    elif 18 <=suhu <=24:\n",
        "        print(f\"suhu {suhu}°C: Ruangan nyaman\")\n",
        "    elif 25 <= suhu <= 30:\n",
        "        print(f\"suhu {suhu}°C: Ruangan hangat\")\n",
        "    else:\n",
        "        print(f\"suhu {suhu}°C: Ruangan terlalu panas\")\n",
        "suhu = float(input(\"Masukkan suhu ruangan (dalam °C): \"))\n",
        "cek_suhu_ruangan(suhu)\n"
      ],
      "metadata": {
        "colab": {
          "base_uri": "https://localhost:8080/"
        },
        "id": "1dXv4hBz73Xy",
        "outputId": "bb49a3ce-cfd6-4712-a416-545818fb4c38"
      },
      "execution_count": 16,
      "outputs": [
        {
          "output_type": "stream",
          "name": "stdout",
          "text": [
            "Masukkan suhu ruangan (dalam °C): 15\n",
            "suhu 15.0°C: Ruangan terlalu dingin\n"
          ]
        }
      ]
    },
    {
      "cell_type": "code",
      "source": [
        "def cek_agama(agama):\n",
        "    switcher = {\n",
        "        1: \"islam\",\n",
        "        2: \"kristen\",\n",
        "        3: \"Katolik\",\n",
        "        4: \"Hindu\",\n",
        "        5: \"buddha\",\n",
        "        6: \"konghucu\"\n",
        "    }\n",
        "    return switcher.get(agama, \"Agama tidak ditemukan\")\n",
        "\n",
        "# input dari pengguna\n",
        "print(\"pilihagama:\")\n",
        "print(\"1. Islam\")\n",
        "print(\"2. Kristen\")\n",
        "print(\"3. Katolik\")\n",
        "print(\"4. Hindu\")\n",
        "print(\"5. Buddha\")\n",
        "print(\"6. Konghucu\")\n",
        "\n",
        "# meminta input angka dari pengguna\n",
        "agama_input = int(input(\"masukkan nomor agama: \"))\n",
        "agama = cek_agama(agama_input)\n",
        "\n",
        "print(f\"Agama yang dipilih adalah: {agama}\")\n",
        "\n",
        ""
      ],
      "metadata": {
        "colab": {
          "base_uri": "https://localhost:8080/"
        },
        "id": "cFBSZ0o98Fxj",
        "outputId": "9279e3cb-0ee0-4875-97ea-8fe6c1ed5be4"
      },
      "execution_count": 17,
      "outputs": [
        {
          "output_type": "stream",
          "name": "stdout",
          "text": [
            "pilihagama:\n",
            "1. Islam\n",
            "2. Kristen\n",
            "3. Katolik\n",
            "4. Hindu\n",
            "5. Buddha\n",
            "6. Konghucu\n",
            "masukkan nomor agama: 5\n",
            "Agama yang dipilih adalah: buddha\n"
          ]
        }
      ]
    }
  ]
}