{
  "nbformat": 4,
  "nbformat_minor": 0,
  "metadata": {
    "colab": {
      "provenance": [],
      "authorship_tag": "ABX9TyO0d71R8m1LnORGUgcvz5jc",
      "include_colab_link": true
    },
    "kernelspec": {
      "name": "python3",
      "display_name": "Python 3"
    },
    "language_info": {
      "name": "python"
    }
  },
  "cells": [
    {
      "cell_type": "markdown",
      "metadata": {
        "id": "view-in-github",
        "colab_type": "text"
      },
      "source": [
        "<a href=\"https://colab.research.google.com/github/Putra1703/putra.github.io/blob/main/PrakKecerdasan_buatan_Putra_Arnando_G_211_23%2C0095.ipynb\" target=\"_parent\"><img src=\"https://colab.research.google.com/assets/colab-badge.svg\" alt=\"Open In Colab\"/></a>"
      ]
    },
    {
      "cell_type": "code",
      "execution_count": 1,
      "metadata": {
        "colab": {
          "base_uri": "https://localhost:8080/"
        },
        "id": "P4m1xgbveIg0",
        "outputId": "a66098eb-9e86-4700-b36d-4c20d947ac01"
      },
      "outputs": [
        {
          "output_type": "stream",
          "name": "stdout",
          "text": [
            "Label Mapping: {'basis data': 0, 'pbo': 1, 'rekayasa web': 2, 'data mining': 3}\n",
            "Encoded Values: [3, -1, 1, 2]\n"
          ]
        }
      ],
      "source": [
        "# Daftar mata kuliah\n",
        "mata_kuliah = [\n",
        "    \"rekayasa web\", \"basis data\", \"pbo\",\n",
        "    \"data mining\", \"basis data\", \"rekayasa web\"\n",
        "]\n",
        "\n",
        "# Membuat mapping label unik untuk setiap mata kuliah\n",
        "unique_labels = list(set(mata_kuliah))  # Mengambil elemen unik\n",
        "label_mapping = {label: idx for idx, label in enumerate(unique_labels)}\n",
        "\n",
        "# Fungsi untuk mengencode label\n",
        "def encode_label(label):\n",
        "    # Jika label tidak ditemukan dalam mapping, kembalikan -1\n",
        "    return label_mapping.get(label, -1)\n",
        "\n",
        "# Tampilkan label mapping\n",
        "print(\"Label Mapping:\", label_mapping)\n",
        "\n",
        "# Uji 1: Mengencode label berdasarkan input\n",
        "input_labels = [\"data mining\", \"basisdata\", \"pbo\", \"rekayasa web\"]  # Data uji\n",
        "encoded_values = [encode_label(label) for label in input_labels]\n",
        "print(\"Encoded Values:\", encoded_values)\n"
      ]
    },
    {
      "cell_type": "code",
      "source": [
        "# Daftar mata kuliah\n",
        "mata_kuliah = [\n",
        "    \"rekayasa web\", \"basis data\", \"pbo\",\n",
        "    \"data mining\", \"basis data\", \"rekayasa web\"\n",
        "]\n",
        "\n",
        "# Membuat mapping label unik untuk setiap mata kuliah\n",
        "unique_labels = list(set(mata_kuliah))  # Mengambil elemen unik\n",
        "label_mapping = {label: idx for idx, label in enumerate(unique_labels)}\n",
        "\n",
        "# Fungsi untuk mengencode label\n",
        "def encode_label(label):\n",
        "    return label_mapping.get(label, -1)\n",
        "\n",
        "# Fungsi untuk mendecode kode label\n",
        "def decode_label(code):\n",
        "    reverse_mapping = {v: k for k, v in label_mapping.items()}\n",
        "    return reverse_mapping.get(code, \"Unknown\")\n",
        "\n",
        "# Tampilkan label mapping\n",
        "print(\"Label Mapping:\", label_mapping)\n",
        "\n",
        "# Uji 1: Mengencode label berdasarkan input\n",
        "input_labels = [\"data mining\", \"basis data\", \"pbo\", \"rekayasa web\"]\n",
        "encoded_values = [encode_label(label) for label in input_labels]\n",
        "print(\"Encoded Values:\", encoded_values)\n",
        "\n",
        "# Uji 2: Mendecode kode label yang diberikan\n",
        "kode_label = [3, 2, 1, 0]\n",
        "decoded_labels = [decode_label(code) for code in kode_label]\n",
        "print(\"Decoded Labels:\", decoded_labels)"
      ],
      "metadata": {
        "colab": {
          "base_uri": "https://localhost:8080/"
        },
        "id": "IG10_4lEhEjb",
        "outputId": "53ac8fab-3bf8-4465-e871-737f600d5a6d"
      },
      "execution_count": 2,
      "outputs": [
        {
          "output_type": "stream",
          "name": "stdout",
          "text": [
            "Label Mapping: {'basis data': 0, 'pbo': 1, 'rekayasa web': 2, 'data mining': 3}\n",
            "Encoded Values: [3, 0, 1, 2]\n",
            "Decoded Labels: ['data mining', 'rekayasa web', 'pbo', 'basis data']\n"
          ]
        }
      ]
    }
  ]
}